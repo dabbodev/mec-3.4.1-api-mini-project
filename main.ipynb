{
 "cells": [
  {
   "cell_type": "code",
   "execution_count": null,
   "metadata": {
    "gradient": {
     "editing": false
    }
   },
   "outputs": [
    {
     "name": "stdout",
     "output_type": "stream",
     "text": [
      "{'dataset_data': {'limit': 1, 'transform': None, 'column_index': None, 'column_names': ['Date', 'Open', 'High', 'Low', 'Close', 'Change', 'Traded Volume', 'Turnover', 'Last Price of the Day', 'Daily Traded Units', 'Daily Turnover'], 'start_date': '2000-06-07', 'end_date': '2020-12-01', 'frequency': 'daily', 'data': [['2020-12-01', 112.2, 112.2, 111.5, 112.0, None, 51.0, 5703.0, None, None, None]], 'collapse': None, 'order': None}}\n"
     ]
    }
   ],
   "source": [
    "API_KEY = '5B1_D5pR3eyXbeRixqjr'\n",
    "\n",
    "import requests\n",
    "\n",
    "payload = {'api_key':API_KEY,'limit':1}\n",
    "\n",
    "r = requests.get('https://www.quandl.com/api/v3/datasets/FSE/AFX_X/data.json', params=payload)\n",
    "\n",
    "print(r.json())"
   ]
  },
  {
   "cell_type": "code",
   "execution_count": null,
   "metadata": {
    "gradient": {
     "editing": false
    }
   },
   "outputs": [
    {
     "name": "stdout",
     "output_type": "stream",
     "text": [
      "Highest Opening Price:  2017-12-14  -  53.11\n",
      "Lowest Opening Price:  2017-01-24  -  34.0\n",
      "Largest Change in One Day:  2017-05-11  -  2.8100000000000023\n",
      "Largest Change in Two Days:  2017-08-08  to  2017-08-09  -  2.559999999999995\n",
      "Average Traded Volume:  52916.81656716018\n",
      "Median Tading Volume:  101294.0\n"
     ]
    }
   ],
   "source": [
    "API_KEY = '5B1_D5pR3eyXbeRixqjr'\n",
    "\n",
    "import requests\n",
    "import json\n",
    "\n",
    "payload = {'api_key':API_KEY,'start_date':'2017-01-01','end_date':'2017-12-31'}\n",
    "\n",
    "r = requests.get('https://www.quandl.com/api/v3/datasets/FSE/AFX_X/data.json', params=payload)\n",
    "\n",
    "data = json.loads(json.dumps(r.json()))['dataset_data']['data']\n",
    "columns = {'Date':0, 'Open':1, 'High':2, 'Low':3, 'Close':4, 'Change':5, 'Traded Volume':6, 'Turnover':7, 'Last Price of the Day':8, 'Daily Traded Units':9, 'Daily Turnover':10}\n",
    "\n",
    "h = data[0]\n",
    "l = data[0]\n",
    "changeOne = data[0]\n",
    "changeTwo = [0.0,0]\n",
    "ATV = 0.0\n",
    "index = 0\n",
    "\n",
    "for day in data:\n",
    "    for x in range(11):\n",
    "        if day[x] == None:\n",
    "            day[x] = 0\n",
    "            \n",
    "    if day[columns['Open']] > h[columns['Open']]:\n",
    "        h = day\n",
    "        \n",
    "    if day[columns['Open']] < l[columns['Open']] and day[columns['Open']] > 0:\n",
    "        l = day\n",
    "        \n",
    "    if day[columns['High']] - day[columns['Low']] > changeOne[columns['High']] - changeOne[columns['Low']]:\n",
    "        changeOne = day\n",
    "        \n",
    "    if index > 0:\n",
    "        change = abs(data[index - 1][columns['Close']] - day[columns['Close']])\n",
    "        if change > changeTwo[0]: \n",
    "            changeTwo[0] = change\n",
    "            changeTwo[1] = index\n",
    "            \n",
    "    ATV = (ATV + day[columns['Traded Volume']]) / 2\n",
    "    index = index + 1\n",
    "    \n",
    "def sortVolume(e):\n",
    "    return e[columns[\"Traded Volume\"]]\n",
    "\n",
    "sdata = data[:]\n",
    "\n",
    "sdata.sort(key=sortVolume)\n",
    "    \n",
    "print(\"Highest Opening Price: \", h[columns['Date']], \" - \", h[columns['Open']])\n",
    "print(\"Lowest Opening Price: \", l[columns['Date']], \" - \", l[columns['Open']])\n",
    "print(\"Largest Change in One Day: \", changeOne[columns['Date']], \" - \", changeOne[columns['High']] - changeOne[columns['Low']])\n",
    "print(\"Largest Change in Two Days: \", data[changeTwo[1]][columns['Date']],\" to \",data[changeTwo[1] - 1][columns['Date']], \" - \", changeTwo[0])\n",
    "print(\"Average Traded Volume: \", ATV)\n",
    "print(\"Median Tading Volume: \", sdata[182][columns[\"Traded Volume\"]])"
   ]
  },
  {
   "cell_type": "code",
   "execution_count": null,
   "metadata": {
    "gradient": {
     "editing": false
    }
   },
   "outputs": [],
   "source": []
  }
 ],
 "metadata": {
  "kernelspec": {
   "display_name": "Python 3",
   "language": "python",
   "name": "python3"
  },
  "language_info": {
   "codemirror_mode": {
    "name": "ipython",
    "version": 3
   },
   "file_extension": ".py",
   "mimetype": "text/x-python",
   "name": "python",
   "nbconvert_exporter": "python",
   "pygments_lexer": "ipython3",
   "version": "3.7.9"
  }
 },
 "nbformat": 4,
 "nbformat_minor": 4
}
